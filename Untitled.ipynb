{
 "cells": [
  {
   "cell_type": "code",
   "execution_count": 3,
   "metadata": {},
   "outputs": [
    {
     "ename": "error",
     "evalue": "OpenCV(4.0.0) C:\\projects\\opencv-python\\opencv\\modules\\imgproc\\src\\color.cpp:181: error: (-215:Assertion failed) !_src.empty() in function 'cv::cvtColor'\n",
     "output_type": "error",
     "traceback": [
      "\u001b[1;31m---------------------------------------------------------------------------\u001b[0m",
      "\u001b[1;31merror\u001b[0m                                     Traceback (most recent call last)",
      "\u001b[1;32m<ipython-input-3-ea251a8ee225>\u001b[0m in \u001b[0;36m<module>\u001b[1;34m()\u001b[0m\n\u001b[0;32m     19\u001b[0m \u001b[1;33m\u001b[0m\u001b[0m\n\u001b[0;32m     20\u001b[0m         \u001b[1;31m# convert to gray scale of each frames\u001b[0m\u001b[1;33m\u001b[0m\u001b[1;33m\u001b[0m\u001b[0m\n\u001b[1;32m---> 21\u001b[1;33m         \u001b[0mgray\u001b[0m \u001b[1;33m=\u001b[0m \u001b[0mcv2\u001b[0m\u001b[1;33m.\u001b[0m\u001b[0mcvtColor\u001b[0m\u001b[1;33m(\u001b[0m\u001b[0mimg\u001b[0m\u001b[1;33m,\u001b[0m \u001b[0mcv2\u001b[0m\u001b[1;33m.\u001b[0m\u001b[0mCOLOR_BGR2GRAY\u001b[0m\u001b[1;33m)\u001b[0m\u001b[1;33m\u001b[0m\u001b[0m\n\u001b[0m\u001b[0;32m     22\u001b[0m \u001b[1;33m\u001b[0m\u001b[0m\n\u001b[0;32m     23\u001b[0m         \u001b[1;31m# Detects faces of different sizes in the input image\u001b[0m\u001b[1;33m\u001b[0m\u001b[1;33m\u001b[0m\u001b[0m\n",
      "\u001b[1;31merror\u001b[0m: OpenCV(4.0.0) C:\\projects\\opencv-python\\opencv\\modules\\imgproc\\src\\color.cpp:181: error: (-215:Assertion failed) !_src.empty() in function 'cv::cvtColor'\n"
     ]
    }
   ],
   "source": [
    "import cv2\n",
    "\n",
    "face_cascade = cv2.CascadeClassifier('haarcascade_frontalface_default.xml')\n",
    "\n",
    "eye_cascade = cv2.CascadeClassifier('haarcascade_eye.xml')\n",
    "\n",
    "smile_cascade = cv2.CascadeClassifier('haarcascade_smile.xml')\n",
    "\n",
    "upper_body_cascasde = cv2.CascadeClassifier('haarcascade_upperbody.xml')\n",
    "\n",
    "# capture frames from a camera\n",
    "cap = cv2.VideoCapture(0)\n",
    "\n",
    "# loop runs if capturing has been initialized.\n",
    "while (1):\n",
    "\n",
    "\t# reads frames from a camera\n",
    "\tret, img = cap.read()\n",
    "\n",
    "\t# convert to gray scale of each frames\n",
    "\tgray = cv2.cvtColor(img, cv2.COLOR_BGR2GRAY)\n",
    "\n",
    "\t# Detects faces of different sizes in the input image\n",
    "\tfaces = face_cascade.detectMultiScale(gray, 1.3, 5)\n",
    "\n",
    "\tfor (x, y, w, h) in faces:\n",
    "\t\t# To draw a rectangle in a face\n",
    "\t\tcv2.rectangle(img, (x, y), (x+w, y+h), (255, 255, 0), 2)\n",
    "\t\troi_gray = gray[y:y+h, x:x+w]\n",
    "\t\troi_color = img[y:y+h, x:x+w]\n",
    "\n",
    "\t\t# Detects eyes of different sizes in the input image\n",
    "\t\tupper_body=upper_body_cascasde.detectMultiScale(roi_gray)\n",
    "        \n",
    "\n",
    "\t\t# To draw a rectangle in eyes\n",
    "\t\tfor (ex, ey, ew, eh) in upper_body:\n",
    "\t\t    cv2.rectangle(roi_color, (ex, ey), (ex+ew, ey+eh), (0, 127, 255), 2)\n",
    "\n",
    "\t# Display an image in a window \n",
    "\tcv2.imshow('img',img) \n",
    "\n",
    "\t# Wait for Esc key to stop \n",
    "\tk = cv2.waitKey(30) & 0xff\n",
    "\tif k == 27: \n",
    "\t\tbreak\n",
    "\n",
    "# Close the window \n",
    "cap.release() \n",
    "\n",
    "# De-allocate any associated memory usage \n",
    "cv2.destroyAllWindows() \n"
   ]
  },
  {
   "cell_type": "code",
   "execution_count": null,
   "metadata": {},
   "outputs": [],
   "source": []
  },
  {
   "cell_type": "code",
   "execution_count": null,
   "metadata": {},
   "outputs": [],
   "source": []
  }
 ],
 "metadata": {
  "kernelspec": {
   "display_name": "Python 3",
   "language": "python",
   "name": "python3"
  },
  "language_info": {
   "codemirror_mode": {
    "name": "ipython",
    "version": 3
   },
   "file_extension": ".py",
   "mimetype": "text/x-python",
   "name": "python",
   "nbconvert_exporter": "python",
   "pygments_lexer": "ipython3",
   "version": "3.7.0"
  }
 },
 "nbformat": 4,
 "nbformat_minor": 2
}
