{
 "cells": [
  {
   "cell_type": "code",
   "execution_count": 40,
   "metadata": {},
   "outputs": [],
   "source": [
    "import numpy as np\n",
    "import cv2\n",
    "from matplotlib import pyplot as plt\n",
    "\n",
    "img = cv2.imread('C:/Users/lenovo/Desktop/Realtime-Face-Expression-Detector/pros.jpg',cv2.IMREAD_COLOR)\n",
    "\n",
    "face_cascade = cv2.CascadeClassifier('haarcascade_frontalface_default.xml')\n",
    "low_cascade = cv2.CascadeClassifier('haarcascade_lowerbody.xml')\n",
    "up_cascade = cv2.CascadeClassifier('haarcascade_upperbody.xml')\n",
    "smile_cascade = cv2.CascadeClassifier('haarcascade_smile.xml')\n",
    "eye_cascade = cv2.CascadeClassifier('haarcascade_eye.xml')\n",
    "full_cascade =  cv2.CascadeClassifier('haarcascade_fullbody.xml')\n",
    "gray = cv2.cvtColor(img, cv2.COLOR_BGR2GRAY )\n",
    "\n",
    "\n",
    "faces = face_cascade.detectMultiScale(roi_color, 1.1 , 4)\n",
    "up = up_cascade.detectMultiScale(gray,1.1,3)\n",
    "low = low_cascade.detectMultiScale(gray,1.1,3)\n",
    "smile = smile_cascade.detectMultiScale(gray,1.1,3)\n",
    "eye = eye_cascade.detectMultiScale(gray,1.1,3)\n",
    "full = full_cascade.detectMultiScale(gray,1.1,3)\n",
    "for (x,y,w,h) in faces:\n",
    "    cv2.rectangle(img, (x,y), (x+w, y+h), (12,150,100),2)\n",
    "    \n",
    "for (x,y,w,h) in low:\n",
    "    cv2.rectangle(img, (x,y), (x+w, y+h), (12,150,100),2)\n",
    "    \n",
    "for (x,y,w,h) in up:\n",
    "    cv2.rectangle(img, (x,y), (x+w, y+h), (12,150,100),2)\n",
    "    \n",
    "# for (x,y,w,h) in smile:\n",
    "#     cv2.rectangle(img, (x,y), (x+w, y+h), (12,150,100),2)\n",
    "\n",
    "for (x,y,w,h) in eye:\n",
    "    cv2.rectangle(img, (x,y), (x+w, y+h), (12,150,100),2)\n",
    "    \n",
    "for (x,y,w,h) in full:\n",
    "    cv2.rectangle(img, (x,y), (x+w, y+h), (12,150,100),2)\n",
    "    \n",
    "cv2.imshow('image',img)\n",
    "cv2.waitKey(0) # If you don'tput this line,thenthe image windowis just a flash. If you put any number other than 0, the same happens.\n",
    "cv2.destroyAllWindows()"
   ]
  },
  {
   "cell_type": "code",
   "execution_count": null,
   "metadata": {},
   "outputs": [],
   "source": []
  },
  {
   "cell_type": "code",
   "execution_count": null,
   "metadata": {},
   "outputs": [],
   "source": []
  }
 ],
 "metadata": {
  "kernelspec": {
   "display_name": "Python 3",
   "language": "python",
   "name": "python3"
  },
  "language_info": {
   "codemirror_mode": {
    "name": "ipython",
    "version": 3
   },
   "file_extension": ".py",
   "mimetype": "text/x-python",
   "name": "python",
   "nbconvert_exporter": "python",
   "pygments_lexer": "ipython3",
   "version": "3.7.0"
  }
 },
 "nbformat": 4,
 "nbformat_minor": 2
}
